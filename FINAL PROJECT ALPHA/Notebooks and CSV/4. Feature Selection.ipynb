{
 "cells": [
  {
   "cell_type": "markdown",
   "metadata": {},
   "source": [
    "python packages"
   ]
  },
  {
   "cell_type": "code",
   "execution_count": 1,
   "metadata": {},
   "outputs": [],
   "source": [
    "import pandas as pd\n",
    "import seaborn as sns\n",
    "import sklearn\n",
    "import matplotlib.pyplot as plt\n",
    "import numpy as np\n",
    "%matplotlib inline"
   ]
  },
  {
   "cell_type": "markdown",
   "metadata": {},
   "source": [
    "Scipy packages"
   ]
  },
  {
   "cell_type": "code",
   "execution_count": 2,
   "metadata": {},
   "outputs": [],
   "source": [
    "import scipy.stats as ss\n",
    "from collections import Counter"
   ]
  },
  {
   "cell_type": "markdown",
   "metadata": {},
   "source": [
    "<b>PROBLEM</b>\n",
    "\n",
    "* The problem in investing on a company is that sometimes the company doesn’t deliver what it is promised, ending up in wasting investor’s capital."
   ]
  },
  {
   "cell_type": "markdown",
   "metadata": {},
   "source": [
    "<b>GOAL</b>\n",
    "\n",
    "* To create a model that can be used both by investors and individuals alike who are interested in either backing up a single product or investing a huge sum of capital on companies listed in Kickstarter by predicting the chances of success based on Kickstarter data.\n"
   ]
  },
  {
   "cell_type": "markdown",
   "metadata": {},
   "source": [
    "<b>Feature Selection</b>\n",
    "\n",
    "according to our previous analysis, i will remove (drop) name, country, deadline, and launched as the four least associated with state.\n",
    "on top of that, i will also remove category. despite category have a moderate association with state, encoding category is going to slow down computations, and I will use main_category as the feature to represent the whole category..\n",
    "\n",
    "and since there are two features that are relatively having strong association with the target variable, I will choose to drop usd_pledged_real over backers. backers could represent itself  as a variable, white usd_pledged_real could only represent if the number of amount of a certain campaign divided with the number of campaigners to get the average money pledged per person. while it is still unfair because every campaign will set their product at a different prices per package. (a USD200 gadget could be considered affordable compared to a USD100 table napkin)\n",
    "\n",
    "backers need to be kept because backers are the backbone and cannot be parted with any crowdfunding platform like Kickstarter and any other similar platform (Indiegogo and KitaBisa for example). Backers also could reflect the success of the campaigner's marketing campaign of their product."
   ]
  },
  {
   "cell_type": "code",
   "execution_count": 3,
   "metadata": {},
   "outputs": [],
   "source": [
    "df = pd.read_csv('2state.csv',index_col=0)"
   ]
  },
  {
   "cell_type": "code",
   "execution_count": 4,
   "metadata": {},
   "outputs": [],
   "source": [
    "def cramers_v(x, y):\n",
    "    confusion_matrix = pd.crosstab(x,y)\n",
    "    chi2 = ss.chi2_contingency(confusion_matrix)[0]\n",
    "    n = confusion_matrix.sum().sum()\n",
    "    phi2 = chi2/n\n",
    "    r,k = confusion_matrix.shape\n",
    "    phi2corr = max(0, phi2-((k-1)*(r-1))/(n-1))\n",
    "    rcorr = r-((r-1)**2)/(n-1)\n",
    "    kcorr = k-((k-1)**2)/(n-1)\n",
    "    return np.sqrt(phi2corr/min((kcorr-1),(rcorr-1)))"
   ]
  },
  {
   "cell_type": "code",
   "execution_count": 5,
   "metadata": {
    "scrolled": true
   },
   "outputs": [
    {
     "data": {
      "text/plain": [
       "<matplotlib.axes._subplots.AxesSubplot at 0x2d52b26fa30>"
      ]
     },
     "execution_count": 5,
     "metadata": {},
     "output_type": "execute_result"
    },
    {
     "data": {
      "image/png": "[encoded data removed]",
      "text/plain": [
       "<Figure size 1440x72 with 2 Axes>"
      ]
     },
     "metadata": {
      "needs_background": "light"
     },
     "output_type": "display_data"
    }
   ],
   "source": [
    "asosiasi_cramers_v = []\n",
    "for i in list(df.columns):\n",
    "    x = round((cramers_v(df['state'], df[i])),2)\n",
    "    asosiasi_cramers_v.append(x)\n",
    "    \n",
    "data = pd.DataFrame(data=[asosiasi_cramers_v], columns=list(df.columns), index=['state'])\n",
    "plt.figure(figsize=(20,1))\n",
    "sns.heatmap(data, annot=True)"
   ]
  },
  {
   "cell_type": "code",
   "execution_count": 6,
   "metadata": {},
   "outputs": [],
   "source": [
    "df.drop(columns=['name','category','deadline','launched','country','usd_pledged_real'],inplace=True)"
   ]
  },
  {
   "cell_type": "code",
   "execution_count": 7,
   "metadata": {},
   "outputs": [
    {
     "data": {
      "text/html": [
       "<div>\n",
       "<style scoped>\n",
       "    .dataframe tbody tr th:only-of-type {\n",
       "        vertical-align: middle;\n",
       "    }\n",
       "\n",
       "    .dataframe tbody tr th {\n",
       "        vertical-align: top;\n",
       "    }\n",
       "\n",
       "    .dataframe thead th {\n",
       "        text-align: right;\n",
       "    }\n",
       "</style>\n",
       "<table border=\"1\" class=\"dataframe\">\n",
       "  <thead>\n",
       "    <tr style=\"text-align: right;\">\n",
       "      <th></th>\n",
       "      <th>main_category</th>\n",
       "      <th>state</th>\n",
       "      <th>backers</th>\n",
       "      <th>usd_goal_real</th>\n",
       "      <th>time_avail</th>\n",
       "    </tr>\n",
       "    <tr>\n",
       "      <th>ID</th>\n",
       "      <th></th>\n",
       "      <th></th>\n",
       "      <th></th>\n",
       "      <th></th>\n",
       "      <th></th>\n",
       "    </tr>\n",
       "  </thead>\n",
       "  <tbody>\n",
       "    <tr>\n",
       "      <th>1000002330</th>\n",
       "      <td>Publishing</td>\n",
       "      <td>failed</td>\n",
       "      <td>0</td>\n",
       "      <td>1533.95</td>\n",
       "      <td>58</td>\n",
       "    </tr>\n",
       "    <tr>\n",
       "      <th>1000003930</th>\n",
       "      <td>Film &amp; Video</td>\n",
       "      <td>failed</td>\n",
       "      <td>15</td>\n",
       "      <td>30000.00</td>\n",
       "      <td>59</td>\n",
       "    </tr>\n",
       "    <tr>\n",
       "      <th>1000004038</th>\n",
       "      <td>Film &amp; Video</td>\n",
       "      <td>failed</td>\n",
       "      <td>3</td>\n",
       "      <td>45000.00</td>\n",
       "      <td>44</td>\n",
       "    </tr>\n",
       "    <tr>\n",
       "      <th>1000007540</th>\n",
       "      <td>Music</td>\n",
       "      <td>failed</td>\n",
       "      <td>1</td>\n",
       "      <td>5000.00</td>\n",
       "      <td>29</td>\n",
       "    </tr>\n",
       "    <tr>\n",
       "      <th>1000014025</th>\n",
       "      <td>Food</td>\n",
       "      <td>successful</td>\n",
       "      <td>224</td>\n",
       "      <td>50000.00</td>\n",
       "      <td>34</td>\n",
       "    </tr>\n",
       "    <tr>\n",
       "      <th>...</th>\n",
       "      <td>...</td>\n",
       "      <td>...</td>\n",
       "      <td>...</td>\n",
       "      <td>...</td>\n",
       "      <td>...</td>\n",
       "    </tr>\n",
       "    <tr>\n",
       "      <th>999975836</th>\n",
       "      <td>Food</td>\n",
       "      <td>failed</td>\n",
       "      <td>4</td>\n",
       "      <td>6500.00</td>\n",
       "      <td>29</td>\n",
       "    </tr>\n",
       "    <tr>\n",
       "      <th>999977640</th>\n",
       "      <td>Film &amp; Video</td>\n",
       "      <td>failed</td>\n",
       "      <td>5</td>\n",
       "      <td>1500.00</td>\n",
       "      <td>26</td>\n",
       "    </tr>\n",
       "    <tr>\n",
       "      <th>999986353</th>\n",
       "      <td>Film &amp; Video</td>\n",
       "      <td>failed</td>\n",
       "      <td>1</td>\n",
       "      <td>15000.00</td>\n",
       "      <td>45</td>\n",
       "    </tr>\n",
       "    <tr>\n",
       "      <th>999987933</th>\n",
       "      <td>Technology</td>\n",
       "      <td>failed</td>\n",
       "      <td>6</td>\n",
       "      <td>15000.00</td>\n",
       "      <td>30</td>\n",
       "    </tr>\n",
       "    <tr>\n",
       "      <th>999988282</th>\n",
       "      <td>Art</td>\n",
       "      <td>failed</td>\n",
       "      <td>17</td>\n",
       "      <td>2000.00</td>\n",
       "      <td>27</td>\n",
       "    </tr>\n",
       "  </tbody>\n",
       "</table>\n",
       "<p>337079 rows × 5 columns</p>\n",
       "</div>"
      ],
      "text/plain": [
       "           main_category       state  backers  usd_goal_real  time_avail\n",
       "ID                                                                      \n",
       "1000002330    Publishing      failed        0        1533.95          58\n",
       "1000003930  Film & Video      failed       15       30000.00          59\n",
       "1000004038  Film & Video      failed        3       45000.00          44\n",
       "1000007540         Music      failed        1        5000.00          29\n",
       "1000014025          Food  successful      224       50000.00          34\n",
       "...                  ...         ...      ...            ...         ...\n",
       "999975836           Food      failed        4        6500.00          29\n",
       "999977640   Film & Video      failed        5        1500.00          26\n",
       "999986353   Film & Video      failed        1       15000.00          45\n",
       "999987933     Technology      failed        6       15000.00          30\n",
       "999988282            Art      failed       17        2000.00          27\n",
       "\n",
       "[337079 rows x 5 columns]"
      ]
     },
     "execution_count": 7,
     "metadata": {},
     "output_type": "execute_result"
    }
   ],
   "source": [
    "df"
   ]
  },
  {
   "cell_type": "markdown",
   "metadata": {},
   "source": [
    "<b>Value Encoding</b>\n",
    "\n",
    "to be able to make sklearn run without any problems, categorical values will be replaced with numerical categories.\n",
    "here are some notes:\n",
    "\n",
    "state                           0= failed, 1= success <br>\n",
    "main_category_Art               0= no, 1= yes<br>\n",
    "main_category_Comics            0= no, 1= yes<br>\n",
    "main_category_Crafts            0= no, 1= yes<br>\n",
    "main_category_Dance             0= no, 1= yes<br>\n",
    "main_category_Design            0= no, 1= yes<br>\n",
    "main_category_Fashion           0= no, 1= yes<br>\n",
    "main_category_Film & Video      0= no, 1= yes<br>\n",
    "main_category_Food              0= no, 1= yes<br>\n",
    "main_category_Games             0= no, 1= yes<br>\n",
    "main_category_Journalism        0= no, 1= yes<br>\n",
    "main_category_Music             0= no, 1= yes<br>\n",
    "main_category_Photography       0= no, 1= yes<br>\n",
    "main_category_Publishing        0= no, 1= yes<br>\n",
    "main_category_Technology        0= no, 1= yes<br>\n",
    "main_category_Theater           0= no, 1= yes<br>"
   ]
  },
  {
   "cell_type": "code",
   "execution_count": 8,
   "metadata": {},
   "outputs": [
    {
     "data": {
      "text/plain": [
       "state                           int64\n",
       "backers                         int64\n",
       "usd_goal_real                 float64\n",
       "time_avail                      int64\n",
       "main_category_Art               uint8\n",
       "main_category_Comics            uint8\n",
       "main_category_Crafts            uint8\n",
       "main_category_Dance             uint8\n",
       "main_category_Design            uint8\n",
       "main_category_Fashion           uint8\n",
       "main_category_Film & Video      uint8\n",
       "main_category_Food              uint8\n",
       "main_category_Games             uint8\n",
       "main_category_Journalism        uint8\n",
       "main_category_Music             uint8\n",
       "main_category_Photography       uint8\n",
       "main_category_Publishing        uint8\n",
       "main_category_Technology        uint8\n",
       "main_category_Theater           uint8\n",
       "dtype: object"
      ]
     },
     "execution_count": 8,
     "metadata": {},
     "output_type": "execute_result"
    }
   ],
   "source": [
    "df['state'] = df['state'].replace(['failed'],0)\n",
    "df['state'] = df['state'].replace(['successful'],1)\n",
    "df = pd.get_dummies(data=df, columns=['main_category'])\n",
    "df.dtypes"
   ]
  },
  {
   "cell_type": "code",
   "execution_count": 9,
   "metadata": {},
   "outputs": [],
   "source": [
    "df.to_csv('ready2.csv')"
   ]
  },
  {
   "cell_type": "code",
   "execution_count": null,
   "metadata": {},
   "outputs": [],
   "source": []
  }
 ],
 "metadata": {
  "kernelspec": {
   "display_name": "Python 3.8.3 64-bit",
   "language": "python",
   "name": "python38364bit2fd5bb1561f84c45b6d3289505b3b8c3"
  },
  "language_info": {
   "codemirror_mode": {
    "name": "ipython",
    "version": 3
   },
   "file_extension": ".py",
   "mimetype": "text/x-python",
   "name": "python",
   "nbconvert_exporter": "python",
   "pygments_lexer": "ipython3",
   "version": "3.8.3"
  }
 },
 "nbformat": 4,
 "nbformat_minor": 4
}
