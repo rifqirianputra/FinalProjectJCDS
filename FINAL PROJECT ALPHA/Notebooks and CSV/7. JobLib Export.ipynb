{
 "cells": [
  {
   "cell_type": "code",
   "execution_count": 19,
   "metadata": {},
   "outputs": [],
   "source": [
    "import pandas as pd\n",
    "import matplotlib.pyplot as plt\n",
    "import pickle\n",
    "\n",
    "%matplotlib inline"
   ]
  },
  {
   "cell_type": "code",
   "execution_count": 20,
   "metadata": {},
   "outputs": [],
   "source": [
    "from sklearn.model_selection import train_test_split\n",
    "from xgboost import XGBClassifier, XGBRegressor\n",
    "from sklearn.model_selection import GridSearchCV"
   ]
  },
  {
   "cell_type": "code",
   "execution_count": 21,
   "metadata": {},
   "outputs": [],
   "source": [
    "df = pd.read_csv('ready.csv',index_col=0)\n",
    "X = df.drop(columns=['state'])\n",
    "y = df.state\n",
    "X_train, X_test, y_train, y_test = train_test_split(X,y,stratify = y, test_size=.2,random_state=42)\n",
    "model = XGBClassifier()\n",
    "model.fit(X_train, y_train)\n",
    "y_predX = model.predict(X_test)\n",
    "y_trainX = model.predict(X_train)"
   ]
  },
  {
   "cell_type": "code",
   "execution_count": 22,
   "metadata": {},
   "outputs": [],
   "source": [
    "with open ('to_dashboard','wb') as ML:\n",
    "    pickle.dump(model,ML)"
   ]
  },
  {
   "cell_type": "code",
   "execution_count": 23,
   "metadata": {},
   "outputs": [
    {
     "output_type": "execute_result",
     "data": {
      "text/plain": "            state  backers  usd_pledged_real  usd_goal_real  time_avail  \\\nID                                                                        \n1000002330      0        0               0.0        1533.95          58   \n1000003930      0       15            2421.0       30000.00          59   \n1000004038      0        3             220.0       45000.00          44   \n1000007540      0        1               1.0        5000.00          29   \n1000014025      1      224           52375.0       50000.00          34   \n...           ...      ...               ...            ...         ...   \n999975836       0        4             154.0        6500.00          29   \n999977640       0        5             155.0        1500.00          26   \n999986353       0        1              20.0       15000.00          45   \n999987933       0        6             200.0       15000.00          30   \n999988282       0       17             524.0        2000.00          27   \n\n            main_category_Art  main_category_Comics  main_category_Crafts  \\\nID                                                                          \n1000002330                  0                     0                     0   \n1000003930                  0                     0                     0   \n1000004038                  0                     0                     0   \n1000007540                  0                     0                     0   \n1000014025                  0                     0                     0   \n...                       ...                   ...                   ...   \n999975836                   0                     0                     0   \n999977640                   0                     0                     0   \n999986353                   0                     0                     0   \n999987933                   0                     0                     0   \n999988282                   1                     0                     0   \n\n            main_category_Dance  main_category_Design  main_category_Fashion  \\\nID                                                                             \n1000002330                    0                     0                      0   \n1000003930                    0                     0                      0   \n1000004038                    0                     0                      0   \n1000007540                    0                     0                      0   \n1000014025                    0                     0                      0   \n...                         ...                   ...                    ...   \n999975836                     0                     0                      0   \n999977640                     0                     0                      0   \n999986353                     0                     0                      0   \n999987933                     0                     0                      0   \n999988282                     0                     0                      0   \n\n            main_category_Film & Video  main_category_Food  \\\nID                                                           \n1000002330                           0                   0   \n1000003930                           1                   0   \n1000004038                           1                   0   \n1000007540                           0                   0   \n1000014025                           0                   1   \n...                                ...                 ...   \n999975836                            0                   1   \n999977640                            1                   0   \n999986353                            1                   0   \n999987933                            0                   0   \n999988282                            0                   0   \n\n            main_category_Games  main_category_Journalism  \\\nID                                                          \n1000002330                    0                         0   \n1000003930                    0                         0   \n1000004038                    0                         0   \n1000007540                    0                         0   \n1000014025                    0                         0   \n...                         ...                       ...   \n999975836                     0                         0   \n999977640                     0                         0   \n999986353                     0                         0   \n999987933                     0                         0   \n999988282                     0                         0   \n\n            main_category_Music  main_category_Photography  \\\nID                                                           \n1000002330                    0                          0   \n1000003930                    0                          0   \n1000004038                    0                          0   \n1000007540                    1                          0   \n1000014025                    0                          0   \n...                         ...                        ...   \n999975836                     0                          0   \n999977640                     0                          0   \n999986353                     0                          0   \n999987933                     0                          0   \n999988282                     0                          0   \n\n            main_category_Publishing  main_category_Technology  \\\nID                                                               \n1000002330                         1                         0   \n1000003930                         0                         0   \n1000004038                         0                         0   \n1000007540                         0                         0   \n1000014025                         0                         0   \n...                              ...                       ...   \n999975836                          0                         0   \n999977640                          0                         0   \n999986353                          0                         0   \n999987933                          0                         1   \n999988282                          0                         0   \n\n            main_category_Theater  \nID                                 \n1000002330                      0  \n1000003930                      0  \n1000004038                      0  \n1000007540                      0  \n1000014025                      0  \n...                           ...  \n999975836                       0  \n999977640                       0  \n999986353                       0  \n999987933                       0  \n999988282                       0  \n\n[337079 rows x 20 columns]",
      "text/html": "<div>\n<style scoped>\n    .dataframe tbody tr th:only-of-type {\n        vertical-align: middle;\n    }\n\n    .dataframe tbody tr th {\n        vertical-align: top;\n    }\n\n    .dataframe thead th {\n        text-align: right;\n    }\n</style>\n<table border=\"1\" class=\"dataframe\">\n  <thead>\n    <tr style=\"text-align: right;\">\n      <th></th>\n      <th>state</th>\n      <th>backers</th>\n      <th>usd_pledged_real</th>\n      <th>usd_goal_real</th>\n      <th>time_avail</th>\n      <th>main_category_Art</th>\n      <th>main_category_Comics</th>\n      <th>main_category_Crafts</th>\n      <th>main_category_Dance</th>\n      <th>main_category_Design</th>\n      <th>main_category_Fashion</th>\n      <th>main_category_Film &amp; Video</th>\n      <th>main_category_Food</th>\n      <th>main_category_Games</th>\n      <th>main_category_Journalism</th>\n      <th>main_category_Music</th>\n      <th>main_category_Photography</th>\n      <th>main_category_Publishing</th>\n      <th>main_category_Technology</th>\n      <th>main_category_Theater</th>\n    </tr>\n    <tr>\n      <th>ID</th>\n      <th></th>\n      <th></th>\n      <th></th>\n      <th></th>\n      <th></th>\n      <th></th>\n      <th></th>\n      <th></th>\n      <th></th>\n      <th></th>\n      <th></th>\n      <th></th>\n      <th></th>\n      <th></th>\n      <th></th>\n      <th></th>\n      <th></th>\n      <th></th>\n      <th></th>\n      <th></th>\n    </tr>\n  </thead>\n  <tbody>\n    <tr>\n      <th>1000002330</th>\n      <td>0</td>\n      <td>0</td>\n      <td>0.0</td>\n      <td>1533.95</td>\n      <td>58</td>\n      <td>0</td>\n      <td>0</td>\n      <td>0</td>\n      <td>0</td>\n      <td>0</td>\n      <td>0</td>\n      <td>0</td>\n      <td>0</td>\n      <td>0</td>\n      <td>0</td>\n      <td>0</td>\n      <td>0</td>\n      <td>1</td>\n      <td>0</td>\n      <td>0</td>\n    </tr>\n    <tr>\n      <th>1000003930</th>\n      <td>0</td>\n      <td>15</td>\n      <td>2421.0</td>\n      <td>30000.00</td>\n      <td>59</td>\n      <td>0</td>\n      <td>0</td>\n      <td>0</td>\n      <td>0</td>\n      <td>0</td>\n      <td>0</td>\n      <td>1</td>\n      <td>0</td>\n      <td>0</td>\n      <td>0</td>\n      <td>0</td>\n      <td>0</td>\n      <td>0</td>\n      <td>0</td>\n      <td>0</td>\n    </tr>\n    <tr>\n      <th>1000004038</th>\n      <td>0</td>\n      <td>3</td>\n      <td>220.0</td>\n      <td>45000.00</td>\n      <td>44</td>\n      <td>0</td>\n      <td>0</td>\n      <td>0</td>\n      <td>0</td>\n      <td>0</td>\n      <td>0</td>\n      <td>1</td>\n      <td>0</td>\n      <td>0</td>\n      <td>0</td>\n      <td>0</td>\n      <td>0</td>\n      <td>0</td>\n      <td>0</td>\n      <td>0</td>\n    </tr>\n    <tr>\n      <th>1000007540</th>\n      <td>0</td>\n      <td>1</td>\n      <td>1.0</td>\n      <td>5000.00</td>\n      <td>29</td>\n      <td>0</td>\n      <td>0</td>\n      <td>0</td>\n      <td>0</td>\n      <td>0</td>\n      <td>0</td>\n      <td>0</td>\n      <td>0</td>\n      <td>0</td>\n      <td>0</td>\n      <td>1</td>\n      <td>0</td>\n      <td>0</td>\n      <td>0</td>\n      <td>0</td>\n    </tr>\n    <tr>\n      <th>1000014025</th>\n      <td>1</td>\n      <td>224</td>\n      <td>52375.0</td>\n      <td>50000.00</td>\n      <td>34</td>\n      <td>0</td>\n      <td>0</td>\n      <td>0</td>\n      <td>0</td>\n      <td>0</td>\n      <td>0</td>\n      <td>0</td>\n      <td>1</td>\n      <td>0</td>\n      <td>0</td>\n      <td>0</td>\n      <td>0</td>\n      <td>0</td>\n      <td>0</td>\n      <td>0</td>\n    </tr>\n    <tr>\n      <th>...</th>\n      <td>...</td>\n      <td>...</td>\n      <td>...</td>\n      <td>...</td>\n      <td>...</td>\n      <td>...</td>\n      <td>...</td>\n      <td>...</td>\n      <td>...</td>\n      <td>...</td>\n      <td>...</td>\n      <td>...</td>\n      <td>...</td>\n      <td>...</td>\n      <td>...</td>\n      <td>...</td>\n      <td>...</td>\n      <td>...</td>\n      <td>...</td>\n      <td>...</td>\n    </tr>\n    <tr>\n      <th>999975836</th>\n      <td>0</td>\n      <td>4</td>\n      <td>154.0</td>\n      <td>6500.00</td>\n      <td>29</td>\n      <td>0</td>\n      <td>0</td>\n      <td>0</td>\n      <td>0</td>\n      <td>0</td>\n      <td>0</td>\n      <td>0</td>\n      <td>1</td>\n      <td>0</td>\n      <td>0</td>\n      <td>0</td>\n      <td>0</td>\n      <td>0</td>\n      <td>0</td>\n      <td>0</td>\n    </tr>\n    <tr>\n      <th>999977640</th>\n      <td>0</td>\n      <td>5</td>\n      <td>155.0</td>\n      <td>1500.00</td>\n      <td>26</td>\n      <td>0</td>\n      <td>0</td>\n      <td>0</td>\n      <td>0</td>\n      <td>0</td>\n      <td>0</td>\n      <td>1</td>\n      <td>0</td>\n      <td>0</td>\n      <td>0</td>\n      <td>0</td>\n      <td>0</td>\n      <td>0</td>\n      <td>0</td>\n      <td>0</td>\n    </tr>\n    <tr>\n      <th>999986353</th>\n      <td>0</td>\n      <td>1</td>\n      <td>20.0</td>\n      <td>15000.00</td>\n      <td>45</td>\n      <td>0</td>\n      <td>0</td>\n      <td>0</td>\n      <td>0</td>\n      <td>0</td>\n      <td>0</td>\n      <td>1</td>\n      <td>0</td>\n      <td>0</td>\n      <td>0</td>\n      <td>0</td>\n      <td>0</td>\n      <td>0</td>\n      <td>0</td>\n      <td>0</td>\n    </tr>\n    <tr>\n      <th>999987933</th>\n      <td>0</td>\n      <td>6</td>\n      <td>200.0</td>\n      <td>15000.00</td>\n      <td>30</td>\n      <td>0</td>\n      <td>0</td>\n      <td>0</td>\n      <td>0</td>\n      <td>0</td>\n      <td>0</td>\n      <td>0</td>\n      <td>0</td>\n      <td>0</td>\n      <td>0</td>\n      <td>0</td>\n      <td>0</td>\n      <td>0</td>\n      <td>1</td>\n      <td>0</td>\n    </tr>\n    <tr>\n      <th>999988282</th>\n      <td>0</td>\n      <td>17</td>\n      <td>524.0</td>\n      <td>2000.00</td>\n      <td>27</td>\n      <td>1</td>\n      <td>0</td>\n      <td>0</td>\n      <td>0</td>\n      <td>0</td>\n      <td>0</td>\n      <td>0</td>\n      <td>0</td>\n      <td>0</td>\n      <td>0</td>\n      <td>0</td>\n      <td>0</td>\n      <td>0</td>\n      <td>0</td>\n      <td>0</td>\n    </tr>\n  </tbody>\n</table>\n<p>337079 rows × 20 columns</p>\n</div>"
     },
     "metadata": {},
     "execution_count": 23
    }
   ],
   "source": [
    "df"
   ]
  },
  {
   "cell_type": "code",
   "execution_count": 24,
   "metadata": {},
   "outputs": [
    {
     "output_type": "execute_result",
     "data": {
      "text/plain": "            backers  usd_pledged_real  usd_goal_real  time_avail  \\\nID                                                                 \n388128023        14            645.00          600.0          29   \n409712387       644          90386.63        85000.0          29   \n1032904224        8            460.00          300.0          59   \n1454975423        1              5.00          200.0          29   \n860753017      2681         105294.07        40000.0          31   \n\n            main_category_Art  main_category_Comics  main_category_Crafts  \\\nID                                                                          \n388128023                   0                     0                     0   \n409712387                   0                     0                     0   \n1032904224                  0                     0                     0   \n1454975423                  1                     0                     0   \n860753017                   0                     0                     0   \n\n            main_category_Dance  main_category_Design  main_category_Fashion  \\\nID                                                                             \n388128023                     0                     0                      0   \n409712387                     0                     0                      0   \n1032904224                    0                     0                      1   \n1454975423                    0                     0                      0   \n860753017                     0                     0                      0   \n\n            main_category_Film & Video  main_category_Food  \\\nID                                                           \n388128023                            0                   0   \n409712387                            0                   0   \n1032904224                           0                   0   \n1454975423                           0                   0   \n860753017                            0                   0   \n\n            main_category_Games  main_category_Journalism  \\\nID                                                          \n388128023                     0                         0   \n409712387                     0                         0   \n1032904224                    0                         0   \n1454975423                    0                         0   \n860753017                     0                         0   \n\n            main_category_Music  main_category_Photography  \\\nID                                                           \n388128023                     0                          0   \n409712387                     1                          0   \n1032904224                    0                          0   \n1454975423                    0                          0   \n860753017                     1                          0   \n\n            main_category_Publishing  main_category_Technology  \\\nID                                                               \n388128023                          1                         0   \n409712387                          0                         0   \n1032904224                         0                         0   \n1454975423                         0                         0   \n860753017                          0                         0   \n\n            main_category_Theater  \nID                                 \n388128023                       0  \n409712387                       0  \n1032904224                      0  \n1454975423                      0  \n860753017                       0  ",
      "text/html": "<div>\n<style scoped>\n    .dataframe tbody tr th:only-of-type {\n        vertical-align: middle;\n    }\n\n    .dataframe tbody tr th {\n        vertical-align: top;\n    }\n\n    .dataframe thead th {\n        text-align: right;\n    }\n</style>\n<table border=\"1\" class=\"dataframe\">\n  <thead>\n    <tr style=\"text-align: right;\">\n      <th></th>\n      <th>backers</th>\n      <th>usd_pledged_real</th>\n      <th>usd_goal_real</th>\n      <th>time_avail</th>\n      <th>main_category_Art</th>\n      <th>main_category_Comics</th>\n      <th>main_category_Crafts</th>\n      <th>main_category_Dance</th>\n      <th>main_category_Design</th>\n      <th>main_category_Fashion</th>\n      <th>main_category_Film &amp; Video</th>\n      <th>main_category_Food</th>\n      <th>main_category_Games</th>\n      <th>main_category_Journalism</th>\n      <th>main_category_Music</th>\n      <th>main_category_Photography</th>\n      <th>main_category_Publishing</th>\n      <th>main_category_Technology</th>\n      <th>main_category_Theater</th>\n    </tr>\n    <tr>\n      <th>ID</th>\n      <th></th>\n      <th></th>\n      <th></th>\n      <th></th>\n      <th></th>\n      <th></th>\n      <th></th>\n      <th></th>\n      <th></th>\n      <th></th>\n      <th></th>\n      <th></th>\n      <th></th>\n      <th></th>\n      <th></th>\n      <th></th>\n      <th></th>\n      <th></th>\n      <th></th>\n    </tr>\n  </thead>\n  <tbody>\n    <tr>\n      <th>388128023</th>\n      <td>14</td>\n      <td>645.00</td>\n      <td>600.0</td>\n      <td>29</td>\n      <td>0</td>\n      <td>0</td>\n      <td>0</td>\n      <td>0</td>\n      <td>0</td>\n      <td>0</td>\n      <td>0</td>\n      <td>0</td>\n      <td>0</td>\n      <td>0</td>\n      <td>0</td>\n      <td>0</td>\n      <td>1</td>\n      <td>0</td>\n      <td>0</td>\n    </tr>\n    <tr>\n      <th>409712387</th>\n      <td>644</td>\n      <td>90386.63</td>\n      <td>85000.0</td>\n      <td>29</td>\n      <td>0</td>\n      <td>0</td>\n      <td>0</td>\n      <td>0</td>\n      <td>0</td>\n      <td>0</td>\n      <td>0</td>\n      <td>0</td>\n      <td>0</td>\n      <td>0</td>\n      <td>1</td>\n      <td>0</td>\n      <td>0</td>\n      <td>0</td>\n      <td>0</td>\n    </tr>\n    <tr>\n      <th>1032904224</th>\n      <td>8</td>\n      <td>460.00</td>\n      <td>300.0</td>\n      <td>59</td>\n      <td>0</td>\n      <td>0</td>\n      <td>0</td>\n      <td>0</td>\n      <td>0</td>\n      <td>1</td>\n      <td>0</td>\n      <td>0</td>\n      <td>0</td>\n      <td>0</td>\n      <td>0</td>\n      <td>0</td>\n      <td>0</td>\n      <td>0</td>\n      <td>0</td>\n    </tr>\n    <tr>\n      <th>1454975423</th>\n      <td>1</td>\n      <td>5.00</td>\n      <td>200.0</td>\n      <td>29</td>\n      <td>1</td>\n      <td>0</td>\n      <td>0</td>\n      <td>0</td>\n      <td>0</td>\n      <td>0</td>\n      <td>0</td>\n      <td>0</td>\n      <td>0</td>\n      <td>0</td>\n      <td>0</td>\n      <td>0</td>\n      <td>0</td>\n      <td>0</td>\n      <td>0</td>\n    </tr>\n    <tr>\n      <th>860753017</th>\n      <td>2681</td>\n      <td>105294.07</td>\n      <td>40000.0</td>\n      <td>31</td>\n      <td>0</td>\n      <td>0</td>\n      <td>0</td>\n      <td>0</td>\n      <td>0</td>\n      <td>0</td>\n      <td>0</td>\n      <td>0</td>\n      <td>0</td>\n      <td>0</td>\n      <td>1</td>\n      <td>0</td>\n      <td>0</td>\n      <td>0</td>\n      <td>0</td>\n    </tr>\n  </tbody>\n</table>\n</div>"
     },
     "metadata": {},
     "execution_count": 24
    }
   ],
   "source": [
    "X_train.head()"
   ]
  },
  {
   "cell_type": "code",
   "execution_count": 25,
   "metadata": {},
   "outputs": [
    {
     "output_type": "execute_result",
     "data": {
      "text/plain": "array([1, 1, 1, ..., 1, 1, 1], dtype=int64)"
     },
     "metadata": {},
     "execution_count": 25
    }
   ],
   "source": [
    "model.predict(X_train)"
   ]
  },
  {
   "cell_type": "code",
   "execution_count": 26,
   "metadata": {},
   "outputs": [
    {
     "output_type": "execute_result",
     "data": {
      "text/plain": "           backers  usd_pledged_real  usd_goal_real  time_avail  \\\nID                                                                \n388128023       14             645.0          600.0          29   \n\n           main_category_Art  main_category_Comics  main_category_Crafts  \\\nID                                                                         \n388128023                  0                     0                     0   \n\n           main_category_Dance  main_category_Design  main_category_Fashion  \\\nID                                                                            \n388128023                    0                     0                      0   \n\n           main_category_Film & Video  main_category_Food  \\\nID                                                          \n388128023                           0                   0   \n\n           main_category_Games  main_category_Journalism  main_category_Music  \\\nID                                                                              \n388128023                    0                         0                    0   \n\n           main_category_Photography  main_category_Publishing  \\\nID                                                               \n388128023                          0                         1   \n\n           main_category_Technology  main_category_Theater  \nID                                                          \n388128023                         0                      0  ",
      "text/html": "<div>\n<style scoped>\n    .dataframe tbody tr th:only-of-type {\n        vertical-align: middle;\n    }\n\n    .dataframe tbody tr th {\n        vertical-align: top;\n    }\n\n    .dataframe thead th {\n        text-align: right;\n    }\n</style>\n<table border=\"1\" class=\"dataframe\">\n  <thead>\n    <tr style=\"text-align: right;\">\n      <th></th>\n      <th>backers</th>\n      <th>usd_pledged_real</th>\n      <th>usd_goal_real</th>\n      <th>time_avail</th>\n      <th>main_category_Art</th>\n      <th>main_category_Comics</th>\n      <th>main_category_Crafts</th>\n      <th>main_category_Dance</th>\n      <th>main_category_Design</th>\n      <th>main_category_Fashion</th>\n      <th>main_category_Film &amp; Video</th>\n      <th>main_category_Food</th>\n      <th>main_category_Games</th>\n      <th>main_category_Journalism</th>\n      <th>main_category_Music</th>\n      <th>main_category_Photography</th>\n      <th>main_category_Publishing</th>\n      <th>main_category_Technology</th>\n      <th>main_category_Theater</th>\n    </tr>\n    <tr>\n      <th>ID</th>\n      <th></th>\n      <th></th>\n      <th></th>\n      <th></th>\n      <th></th>\n      <th></th>\n      <th></th>\n      <th></th>\n      <th></th>\n      <th></th>\n      <th></th>\n      <th></th>\n      <th></th>\n      <th></th>\n      <th></th>\n      <th></th>\n      <th></th>\n      <th></th>\n      <th></th>\n    </tr>\n  </thead>\n  <tbody>\n    <tr>\n      <th>388128023</th>\n      <td>14</td>\n      <td>645.0</td>\n      <td>600.0</td>\n      <td>29</td>\n      <td>0</td>\n      <td>0</td>\n      <td>0</td>\n      <td>0</td>\n      <td>0</td>\n      <td>0</td>\n      <td>0</td>\n      <td>0</td>\n      <td>0</td>\n      <td>0</td>\n      <td>0</td>\n      <td>0</td>\n      <td>1</td>\n      <td>0</td>\n      <td>0</td>\n    </tr>\n  </tbody>\n</table>\n</div>"
     },
     "metadata": {},
     "execution_count": 26
    }
   ],
   "source": [
    "X_train.head(1)"
   ]
  },
  {
   "cell_type": "code",
   "execution_count": 45,
   "metadata": {},
   "outputs": [],
   "source": [
    "# model.predict([[14,645.0,600,29,0,0,0,0,0,0,0,0,0,0,0,0,1,0,0]])\n",
    "data = [[14,645.0,600,29,0,0,0,0,0,0,0,0,0,0,0,0,1,0,0]]"
   ]
  },
  {
   "cell_type": "code",
   "execution_count": 54,
   "metadata": {},
   "outputs": [],
   "source": [
    "dfinput = pd.DataFrame(data=data, columns=X_train.columns)"
   ]
  },
  {
   "cell_type": "code",
   "execution_count": 55,
   "metadata": {},
   "outputs": [
    {
     "output_type": "execute_result",
     "data": {
      "text/plain": "   backers  usd_pledged_real  usd_goal_real  time_avail  main_category_Art  \\\n0       14             645.0            600          29                  0   \n\n   main_category_Comics  main_category_Crafts  main_category_Dance  \\\n0                     0                     0                    0   \n\n   main_category_Design  main_category_Fashion  main_category_Film & Video  \\\n0                     0                      0                           0   \n\n   main_category_Food  main_category_Games  main_category_Journalism  \\\n0                   0                    0                         0   \n\n   main_category_Music  main_category_Photography  main_category_Publishing  \\\n0                    0                          0                         1   \n\n   main_category_Technology  main_category_Theater  \n0                         0                      0  ",
      "text/html": "<div>\n<style scoped>\n    .dataframe tbody tr th:only-of-type {\n        vertical-align: middle;\n    }\n\n    .dataframe tbody tr th {\n        vertical-align: top;\n    }\n\n    .dataframe thead th {\n        text-align: right;\n    }\n</style>\n<table border=\"1\" class=\"dataframe\">\n  <thead>\n    <tr style=\"text-align: right;\">\n      <th></th>\n      <th>backers</th>\n      <th>usd_pledged_real</th>\n      <th>usd_goal_real</th>\n      <th>time_avail</th>\n      <th>main_category_Art</th>\n      <th>main_category_Comics</th>\n      <th>main_category_Crafts</th>\n      <th>main_category_Dance</th>\n      <th>main_category_Design</th>\n      <th>main_category_Fashion</th>\n      <th>main_category_Film &amp; Video</th>\n      <th>main_category_Food</th>\n      <th>main_category_Games</th>\n      <th>main_category_Journalism</th>\n      <th>main_category_Music</th>\n      <th>main_category_Photography</th>\n      <th>main_category_Publishing</th>\n      <th>main_category_Technology</th>\n      <th>main_category_Theater</th>\n    </tr>\n  </thead>\n  <tbody>\n    <tr>\n      <th>0</th>\n      <td>14</td>\n      <td>645.0</td>\n      <td>600</td>\n      <td>29</td>\n      <td>0</td>\n      <td>0</td>\n      <td>0</td>\n      <td>0</td>\n      <td>0</td>\n      <td>0</td>\n      <td>0</td>\n      <td>0</td>\n      <td>0</td>\n      <td>0</td>\n      <td>0</td>\n      <td>0</td>\n      <td>1</td>\n      <td>0</td>\n      <td>0</td>\n    </tr>\n  </tbody>\n</table>\n</div>"
     },
     "metadata": {},
     "execution_count": 55
    }
   ],
   "source": [
    "dfinput"
   ]
  },
  {
   "cell_type": "code",
   "execution_count": 56,
   "metadata": {},
   "outputs": [
    {
     "output_type": "execute_result",
     "data": {
      "text/plain": "array([1], dtype=int64)"
     },
     "metadata": {},
     "execution_count": 56
    }
   ],
   "source": [
    "model.predict(dfinput)"
   ]
  },
  {
   "cell_type": "code",
   "execution_count": 57,
   "metadata": {},
   "outputs": [
    {
     "output_type": "execute_result",
     "data": {
      "text/plain": "Index(['backers', 'usd_pledged_real', 'usd_goal_real', 'time_avail',\n       'main_category_Art', 'main_category_Comics', 'main_category_Crafts',\n       'main_category_Dance', 'main_category_Design', 'main_category_Fashion',\n       'main_category_Film & Video', 'main_category_Food',\n       'main_category_Games', 'main_category_Journalism',\n       'main_category_Music', 'main_category_Photography',\n       'main_category_Publishing', 'main_category_Technology',\n       'main_category_Theater'],\n      dtype='object')"
     },
     "metadata": {},
     "execution_count": 57
    }
   ],
   "source": [
    "X_train.columns"
   ]
  },
  {
   "cell_type": "code",
   "execution_count": null,
   "metadata": {},
   "outputs": [],
   "source": []
  }
 ],
 "metadata": {
  "kernelspec": {
   "display_name": "Python 3.8.3 64-bit",
   "language": "python",
   "name": "python38364bit2fd5bb1561f84c45b6d3289505b3b8c3"
  },
  "language_info": {
   "codemirror_mode": {
    "name": "ipython",
    "version": 3
   },
   "file_extension": ".py",
   "mimetype": "text/x-python",
   "name": "python",
   "nbconvert_exporter": "python",
   "pygments_lexer": "ipython3",
   "version": "3.8.3-final"
  }
 },
 "nbformat": 4,
 "nbformat_minor": 4
}